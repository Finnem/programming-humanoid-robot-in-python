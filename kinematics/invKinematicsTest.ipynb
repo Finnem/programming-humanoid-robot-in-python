{
 "cells": [
  {
   "cell_type": "code",
   "execution_count": 1,
   "metadata": {
    "collapsed": false
   },
   "outputs": [],
   "source": [
    "%matplotlib inline\n",
    "from pylab import *\n",
    "from ipywidgets import interact, widgets\n",
    "from IPython import display\n",
    "import matplotlib.pyplot as plt\n",
    "import numpy as np"
   ]
  },
  {
   "cell_type": "code",
   "execution_count": 2,
   "metadata": {
    "collapsed": false,
    "scrolled": false
   },
   "outputs": [],
   "source": [
    "from inverse_kinematics import InverseKinematicsAgent\n",
    "agent = InverseKinematicsAgent()"
   ]
  },
  {
   "cell_type": "code",
   "execution_count": 3,
   "metadata": {
    "collapsed": false
   },
   "outputs": [],
   "source": [
    "agent.start()"
   ]
  },
  {
   "cell_type": "code",
   "execution_count": 4,
   "metadata": {
    "collapsed": false,
    "scrolled": false
   },
   "outputs": [],
   "source": [
    "target = np.identity(4)\n",
    "tShow = False\n",
    "tChain = ''\n",
    "def plot_forward(showLabels = False):\n",
    "    figure(figsize=(16,8))\n",
    "    for chain, chain_joints in agent.chains.iteritems():\n",
    "        lastX = agent.transforms[chain_joints[0]][0][-1]\n",
    "        lastY = agent.transforms[chain_joints[0]][1][-1]\n",
    "        lastZ = agent.transforms[chain_joints[0]][2][-1]\n",
    "        for joint in chain_joints[1:]:\n",
    "            x = agent.transforms[joint][0][-1]\n",
    "            y = agent.transforms[joint][1][-1]\n",
    "            z = agent.transforms[joint][2][-1]\n",
    "            plt.subplot(1,2,1)\n",
    "            plot([lastY, y],[-lastX, -x], '-or', markersize = 10)\n",
    "            plt.subplot(1,2,2)\n",
    "            plot([lastY, y],[lastZ, z], '-or', markersize = 10)\n",
    "            lastX = x\n",
    "            lastY = y\n",
    "            lastZ = z\n",
    "        x = agent.endeffectorTransforms[chain][0][-1]\n",
    "        y = agent.endeffectorTransforms[chain][1][-1]\n",
    "        z = agent.endeffectorTransforms[chain][2][-1]\n",
    "        plt.subplot(1,2,1)\n",
    "        plot([lastY, y],[-lastX, -x], '-or', markersize = 10)\n",
    "        if showLabels:\n",
    "            plt.annotate(chain, xy = (y, -x), xytext = (np.sign(y) * 40 + y + 10, np.sign(-x) * 30 + -x + 10), arrowprops = dict(arrowstyle = \"->\", color = \"k\"))\n",
    "        plt.subplot(1,2,2)\n",
    "        plot([lastY, y],[lastZ, z], '-or', markersize = 10)\n",
    "        if showLabels:\n",
    "            plt.annotate(chain, xy = (y, z), xytext = (np.sign(y) * 40 + y, np.sign(z) * 30 + z), arrowprops = dict(arrowstyle = \"->\", color = \"k\"))\n",
    "            \n",
    "    tX = target[0][-1]\n",
    "    tY = target[1][-1]\n",
    "    tZ = target[2][-1]\n",
    "    \n",
    "    plt.subplot(1,2,1)\n",
    "    if tShow:\n",
    "            plot(tY, -tX, 'bo', markersize = 7)\n",
    "            if showLabels:\n",
    "                plt.annotate('target: ' + tChain, xy = (tY, -tX), color = \"b\", xytext = (np.sign(tY) * 40 + tY + 10, np.sign(-tX) * -30 + -tX - 10), arrowprops = dict(arrowstyle = \"fancy\"))\n",
    "        \n",
    "    plt.title(\"From Top\")\n",
    "    plt.xlabel(\"y\")\n",
    "    plt.ylabel(\"x\")\n",
    "    plt.xlim([-350,350])\n",
    "    plt.ylim([-300,200])\n",
    "    \n",
    "    plt.subplot(1,2,2)\n",
    "    if tShow:\n",
    "            plot(tY, tZ, 'bo', markersize = 7)\n",
    "            if showLabels:\n",
    "                plt.annotate('target: ' + tChain, xy = (tY, tZ), color = \"b\", xytext = (np.sign(tY) * 40 + tY + 10, np.sign(tZ) * -30 + tZ - 10), arrowprops = dict(arrowstyle = \"fancy\"))\n",
    "        \n",
    "    plt.title(\"From Front\")\n",
    "    plt.xlabel(\"y\")\n",
    "    plt.ylabel(\"z\")\n",
    "    plt.xlim([-350,350])\n",
    "    plt.ylim([-400,400])\n",
    "    display.clear_output(wait = True)"
   ]
  },
  {
   "cell_type": "code",
   "execution_count": 5,
   "metadata": {
    "collapsed": true
   },
   "outputs": [],
   "source": [
    "joint_name = 'HeadYaw'\n",
    "chain_name = 'LLeg'\n",
    "#setup Buttons:\n",
    "buttons = []\n",
    "def updateOnClick(ev = None):\n",
    "    plot_forward()\n",
    "updateButton = widgets.Button(description = \"update plot\")\n",
    "updateButton.on_click(updateOnClick)\n",
    "buttons.append(updateButton)\n",
    "def showLabelsOnClick(ev = None):\n",
    "    plot_forward(True)\n",
    "showLabelsButton = widgets.Button(description = \"show labels\")\n",
    "showLabelsButton.on_click(showLabelsOnClick)\n",
    "buttons.append(showLabelsButton)\n",
    "def captureOnClick(ev = None):\n",
    "    global target\n",
    "    global tShow\n",
    "    global tChain\n",
    "    target = agent.endeffectorTransforms[chain_name]\n",
    "    tShow = True\n",
    "    tChain = chain_name\n",
    "    plot_forward()\n",
    "captureButton = widgets.Button(description = \"capture endeffector\")\n",
    "captureButton.on_click(captureOnClick)\n",
    "buttons.append(captureButton)\n",
    "def inverseOnClick(ev = None):\n",
    "    global target\n",
    "    global tChain\n",
    "    global agent\n",
    "    agent.set_transforms(tChain, target)\n",
    "inverseButton = widgets.Button(description = \"run inverse\")\n",
    "inverseButton.on_click(inverseOnClick)\n",
    "buttons.append(inverseButton)"
   ]
  },
  {
   "cell_type": "code",
   "execution_count": 6,
   "metadata": {
    "collapsed": false
   },
   "outputs": [
    {
     "data": {
      "image/png": "[encoded data removed]",
      "text/plain": [
       "<matplotlib.figure.Figure at 0x7f79c544be90>"
      ]
     },
     "metadata": {},
     "output_type": "display_data"
    }
   ],
   "source": [
    "#setup interactive rest\n",
    "\n",
    "@interact(name=agent.joint_names)\n",
    "def set_test_joint(name):\n",
    "    global agent\n",
    "    global joint_name\n",
    "    joint_name = name\n",
    "    agent.testJoint = joint_name\n",
    "@interact(value=(-pi/2, pi/2, pi/40))\n",
    "def set_joint_target(value):\n",
    "    agent.target_joints[joint_name] = value\n",
    "    plot_forward()\n",
    "@interact(captured_chain=agent.endeffectorTransforms.keys())\n",
    "def set_test_chain(captured_chain):\n",
    "    global agent\n",
    "    global chain_name\n",
    "    chain_name = captured_chain\n",
    "display.display(widgets.HBox(buttons))"
   ]
  },
  {
   "cell_type": "code",
   "execution_count": null,
   "metadata": {
    "collapsed": true
   },
   "outputs": [],
   "source": []
  },
  {
   "cell_type": "code",
   "execution_count": null,
   "metadata": {
    "collapsed": true
   },
   "outputs": [],
   "source": []
  }
 ],
 "metadata": {
  "kernelspec": {
   "display_name": "Python 2",
   "language": "python",
   "name": "python2"
  },
  "language_info": {
   "codemirror_mode": {
    "name": "ipython",
    "version": 2
   },
   "file_extension": ".py",
   "mimetype": "text/x-python",
   "name": "python",
   "nbconvert_exporter": "python",
   "pygments_lexer": "ipython2",
   "version": "2.7.10"
  }
 },
 "nbformat": 4,
 "nbformat_minor": 0
}
