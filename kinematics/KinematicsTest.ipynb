{
 "cells": [
  {
   "cell_type": "code",
   "execution_count": 1,
   "metadata": {
    "collapsed": false
   },
   "outputs": [],
   "source": [
    "%matplotlib inline\n",
    "from pylab import *\n",
    "from ipywidgets import interact, widgets\n",
    "from IPython import display\n",
    "import matplotlib.pyplot as plt\n",
    "import numpy as np\n",
    "from collections import deque\n",
    "pi = np.pi\n"
   ]
  },
  {
   "cell_type": "code",
   "execution_count": 2,
   "metadata": {
    "collapsed": false,
    "scrolled": false
   },
   "outputs": [],
   "source": [
    "from forward_kinematics import ForwardKinematicsAgent\n",
    "agent = ForwardKinematicsAgent() #so he wont constantly try to get up when he is down"
   ]
  },
  {
   "cell_type": "code",
   "execution_count": 3,
   "metadata": {
    "collapsed": false,
    "scrolled": false
   },
   "outputs": [
    {
     "data": {
      "image/png": "[encoded data removed]",
      "text/plain": [
       "<matplotlib.figure.Figure at 0x7fad98aef190>"
      ]
     },
     "metadata": {},
     "output_type": "display_data"
    },
    {
     "data": {
      "image/png": "[encoded data removed]",
      "text/plain": [
       "<matplotlib.figure.Figure at 0x7fad98e48610>"
      ]
     },
     "metadata": {},
     "output_type": "display_data"
    }
   ],
   "source": [
    "def plot_forward():\n",
    "    cla()\n",
    "    for chain in agent.chains.values():\n",
    "        x = deque(maxlen=30)\n",
    "        y = deque(maxlen=30)\n",
    "        z = deque(maxlen=30)\n",
    "        for joint in chain:\n",
    "            x.append(agent.transforms[joint][0][-1])\n",
    "            y.append(agent.transforms[joint][1][-1])\n",
    "            z.append(agent.transforms[joint][2][-1])\n",
    "            \n",
    "        for i in range(len(x) - 1):\n",
    "            plt.figure(1)\n",
    "            plot([-y[i], -y[i + 1]],[x[i], x[i + 1]], '-or', markersize = 10)\n",
    "            plt.figure(2)\n",
    "            plot([-y[i], -y[i + 1]],[z[i], z[i + 1]], '-or', markersize = 10)\n",
    "    plt.figure(1)\n",
    "    plt.title(\"From Top\")\n",
    "    plt.figure(2)\n",
    "    plt.title(\"From Front\")\n",
    "    display.clear_output(wait=True)\n",
    "    plt.show(gcf())\n",
    "\n",
    "#setup Buttons:\n",
    "buttons = []\n",
    "thisTime = 0.\n",
    "def updateOnClick(ev = None):\n",
    "    plot_forward()\n",
    "updateButton = widgets.Button(description = \"update plot\")\n",
    "updateButton.on_click(updateOnClick)\n",
    "\n",
    "#setup interactive rest\n",
    "joint_name='HeadYaw'\n",
    "@interact(name=agent.joint_names)\n",
    "def set_test_joint(name):\n",
    "    global agent\n",
    "    global joint_name\n",
    "    joint_name = name\n",
    "    agent.testJoint = joint_name\n",
    "@interact(value=(-pi/2, pi/2, pi/40))\n",
    "def set_joint_target(value):\n",
    "    agent.target_joints[joint_name] = value\n",
    "    plot_forward()\n",
    "display.display(updateButton)"
   ]
  },
  {
   "cell_type": "code",
   "execution_count": 4,
   "metadata": {
    "collapsed": false
   },
   "outputs": [],
   "source": [
    "# inject plotting input agent's loop\n",
    "\n",
    "agent.start()"
   ]
  },
  {
   "cell_type": "code",
   "execution_count": null,
   "metadata": {
    "collapsed": true
   },
   "outputs": [],
   "source": []
  },
  {
   "cell_type": "code",
   "execution_count": null,
   "metadata": {
    "collapsed": true
   },
   "outputs": [],
   "source": []
  }
 ],
 "metadata": {
  "kernelspec": {
   "display_name": "Python 2",
   "language": "python",
   "name": "python2"
  },
  "language_info": {
   "codemirror_mode": {
    "name": "ipython",
    "version": 2
   },
   "file_extension": ".py",
   "mimetype": "text/x-python",
   "name": "python",
   "nbconvert_exporter": "python",
   "pygments_lexer": "ipython2",
   "version": "2.7.10"
  }
 },
 "nbformat": 4,
 "nbformat_minor": 0
}
