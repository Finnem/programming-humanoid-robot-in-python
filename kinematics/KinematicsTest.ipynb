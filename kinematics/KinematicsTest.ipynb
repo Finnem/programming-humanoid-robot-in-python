{
 "cells": [
  {
   "cell_type": "code",
   "execution_count": 1,
   "metadata": {
    "collapsed": false
   },
   "outputs": [],
   "source": [
    "%matplotlib inline\n",
    "from pylab import *\n",
    "from ipywidgets import interact, widgets\n",
    "from IPython import display\n",
    "from keyframes import hello\n",
    "from keyframes import wipe_forehead\n",
    "from keyframes import leftBackToStand\n",
    "from keyframes import leftBellyToStand\n",
    "import matplotlib.pyplot as plt\n",
    "import numpy as np\n",
    "from collections import deque\n",
    "pi = np.pi\n",
    "keyframesDict = {\"Hello!\" : hello(), \"Wipe It!\" : wipe_forehead(), \"Stand Up from Back!\" : leftBackToStand(), \"Stand Up from Belly!\" : leftBellyToStand()}"
   ]
  },
  {
   "cell_type": "code",
   "execution_count": 2,
   "metadata": {
    "collapsed": false,
    "scrolled": false
   },
   "outputs": [],
   "source": [
    "from forward_kinematics import ForwardKinematicsAgent\n",
    "from recognize_posture import PostureRecognitionAgent\n",
    "agent = ForwardKinematicsAgent() #so he wont constantly try to get up when he is down"
   ]
  },
  {
   "cell_type": "code",
   "execution_count": 3,
   "metadata": {
    "collapsed": false,
    "scrolled": false
   },
   "outputs": [
    {
     "data": {
      "image/png": "[encoded data removed]",
      "text/plain": [
       "<matplotlib.figure.Figure at 0x7fe2b64c7310>"
      ]
     },
     "metadata": {},
     "output_type": "display_data"
    },
    {
     "data": {
      "image/png": "[encoded data removed]",
      "text/plain": [
       "<matplotlib.figure.Figure at 0x7fe2b641a510>"
      ]
     },
     "metadata": {},
     "output_type": "display_data"
    }
   ],
   "source": [
    "#setup Buttons:\n",
    "buttons = []\n",
    "thisTime = 0.\n",
    "def keyFrameOnClick(ev = None):\n",
    "    global agent\n",
    "    agent.set_keyframes(keyframesDict[ev.description])\n",
    "    display.clear_output(True)\n",
    "    plt.cla()\n",
    "    thisTime = agent.perception.time\n",
    "for label in keyframesDict:\n",
    "    buttons.append(widgets.Button(description = label))\n",
    "    buttons[-1].on_click(keyFrameOnClick)\n",
    "display.display(widgets.HBox(buttons))\n",
    "\n",
    "\n",
    "#setup interactive rest\n",
    "joint_name='HeadYaw'\n",
    "@interact(name=agent.joint_names)\n",
    "def set_test_joint(name):\n",
    "    global agent\n",
    "    global joint_name\n",
    "    joint_name = name\n",
    "    agent.testJoint = joint_name\n",
    "bezier = 0\n",
    "@interact(setBezier=(0,1))\n",
    "def set_bezier(setBezier):\n",
    "    global bezier\n",
    "    bezier = setBezier\n",
    "@interact(kp=(0, 100, 1), ki=(-1, 1, 0.1), kd=(-1, 1, 0.1), delay=(0, 5))\n",
    "def set_pid_parameters(kp, ki, kd, delay=1):\n",
    "    global agent\n",
    "    agent.joint_controller.Kp = kp\n",
    "    agent.joint_controller.Ki = ki\n",
    "    agent.joint_controller.Kd = kd\n",
    "    agent.joint_controller.set_delay(delay)\n",
    "@interact(value=(-pi/2, pi/2, pi/20))\n",
    "def set_joint_target(value):\n",
    "    agent.target_joints[joint_name] = value\n",
    "    cla()\n",
    "    for chain in agent.chains.values():\n",
    "        x = deque(maxlen=30)\n",
    "        y = deque(maxlen=30)\n",
    "        z = deque(maxlen=30)\n",
    "        for joint in chain:\n",
    "            x.append(agent.transforms[joint][0][-1])\n",
    "            y.append(agent.transforms[joint][1][-1])\n",
    "            z.append(agent.transforms[joint][2][-1])\n",
    "            \n",
    "        for i in range(len(x) - 1):\n",
    "            plt.figure(1)\n",
    "            plot([-y[i], -y[i + 1]],[x[i], x[i + 1]], '-or', markersize = 10)\n",
    "            plt.figure(2)\n",
    "            plot([-y[i], -y[i + 1]],[z[i], z[i + 1]], '-or', markersize = 10)\n",
    "    plt.figure(1)\n",
    "    plt.title(\"From Top\")\n",
    "    plt.figure(2)\n",
    "    plt.title(\"From Front\")\n",
    "    display.clear_output(wait=True)\n",
    "    plt.show(gcf())"
   ]
  },
  {
   "cell_type": "code",
   "execution_count": 4,
   "metadata": {
    "collapsed": false
   },
   "outputs": [],
   "source": [
    "# inject plotting input agent's loop\n",
    "\n",
    "agent.start()"
   ]
  },
  {
   "cell_type": "code",
   "execution_count": null,
   "metadata": {
    "collapsed": true
   },
   "outputs": [],
   "source": []
  },
  {
   "cell_type": "code",
   "execution_count": null,
   "metadata": {
    "collapsed": true
   },
   "outputs": [],
   "source": []
  }
 ],
 "metadata": {
  "kernelspec": {
   "display_name": "Python 2",
   "language": "python",
   "name": "python2"
  },
  "language_info": {
   "codemirror_mode": {
    "name": "ipython",
    "version": 2
   },
   "file_extension": ".py",
   "mimetype": "text/x-python",
   "name": "python",
   "nbconvert_exporter": "python",
   "pygments_lexer": "ipython2",
   "version": "2.7.10"
  }
 },
 "nbformat": 4,
 "nbformat_minor": 0
}
