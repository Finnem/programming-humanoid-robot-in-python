{
 "cells": [
  {
   "cell_type": "code",
   "execution_count": 1,
   "metadata": {
    "collapsed": false
   },
   "outputs": [],
   "source": [
    "%matplotlib inline\n",
    "from pylab import *\n",
    "from ipywidgets import interact, widgets\n",
    "from IPython import display\n",
    "from keyframes import hello\n",
    "from keyframes import wipe_forehead\n",
    "from keyframes import leftBackToStand\n",
    "from keyframes import leftBellyToStand\n",
    "from collections import deque\n",
    "from numpy import pi\n",
    "keyframesDict = {\"Hello!\" : hello(), \"Wipe It!\" : wipe_forehead(), \"Stand Up from Back!\" : leftBackToStand(), \"Stand Up from Belly!\" : leftBellyToStand()}"
   ]
  },
  {
   "cell_type": "code",
   "execution_count": 2,
   "metadata": {
    "collapsed": false,
    "scrolled": true
   },
   "outputs": [],
   "source": [
    "from standing_up import StandingUpAgent\n",
    "from recognize_posture import PostureRecognitionAgent\n",
    "agent = PostureRecognitionAgent() #so he wont constantly try to get up when he is down"
   ]
  },
  {
   "cell_type": "code",
   "execution_count": 3,
   "metadata": {
    "collapsed": false,
    "scrolled": false
   },
   "outputs": [
    {
     "data": {
      "image/png": "[encoded data removed]",
      "text/plain": [
       "<matplotlib.figure.Figure at 0x7f73ad4b5790>"
      ]
     },
     "metadata": {},
     "output_type": "display_data"
    }
   ],
   "source": [
    "#setup Buttons:\n",
    "buttons = []\n",
    "def keyFrameOnClick(ev = None):\n",
    "    global agent\n",
    "    agent.set_keyframes(keyframesDict[ev.description], 1)\n",
    "    display.clear_output(True)\n",
    "for label in keyframesDict:\n",
    "    buttons.append(widgets.Button(description = label))\n",
    "    buttons[-1].on_click(keyFrameOnClick)\n",
    "display.display(widgets.HBox(buttons))\n",
    "\n",
    "#setup interactive rest\n",
    "joint_name='HeadYaw'\n",
    "@interact(name=agent.joint_names)\n",
    "def set_test_joint(name):\n",
    "    global agent\n",
    "    global joint_name\n",
    "    joint_name = name\n",
    "    agent.testJoint = joint_name\n",
    "bezier = 0\n",
    "@interact(setBezier=(0,1))\n",
    "def set_bezier(setBezier):\n",
    "    global bezier\n",
    "    bezier = setBezier\n",
    "@interact(kp=(0, 100, 1), ki=(-1, 1, 0.1), kd=(-1, 1, 0.1), delay=(0, 5))\n",
    "def set_pid_parameters(kp, ki, kd, delay=1):\n",
    "    global agent\n",
    "    agent.joint_controller.Kp = kp\n",
    "    agent.joint_controller.Ki = ki\n",
    "    agent.joint_controller.Kd = kd\n",
    "    agent.joint_controller.set_delay(delay)\n",
    "@interact(value=(-pi/2, pi/2, pi/40))\n",
    "def set_joint_target(value):\n",
    "    agent.target_joints[joint_name] = value"
   ]
  },
  {
   "cell_type": "code",
   "execution_count": 4,
   "metadata": {
    "collapsed": false
   },
   "outputs": [
    {
     "data": {
      "image/png": "[encoded data removed]",
      "text/plain": [
       "<matplotlib.figure.Figure at 0x7f73d4154750>"
      ]
     },
     "metadata": {},
     "output_type": "display_data"
    }
   ],
   "source": [
    "# inject plotting input agent's loop\n",
    "cycle = 0\n",
    "sensor = deque(maxlen=100)\n",
    "target = deque(maxlen=100)\n",
    "otherInterpolation = deque(maxlen=100)\n",
    "orig_sense_think_act = agent.sense_think_act\n",
    "def sense_think_act():\n",
    "    global cycle\n",
    "    global bezier\n",
    "    cycle += 1\n",
    "    orig_sense_think_act()\n",
    "    sensor.append(agent.perception.joint[joint_name])\n",
    "    target.append(agent.target_joints[joint_name])\n",
    "    if bezier:\n",
    "        interpolated  = agent.angle_interpolation(agent.keyframes,agent.perception)\n",
    "    else: \n",
    "        interpolated  = agent.angle_interpolation(agent.keyframes,agent.perception)\n",
    "\n",
    "    if joint_name in interpolated:\n",
    "        otherInterpolation.append(interpolated[joint_name])\n",
    "        \n",
    "    if cycle % 10 == 0:  # plot every 10 cycles\n",
    "        cla()\n",
    "        plot(target, '-r')\n",
    "        plot(sensor, '-b')\n",
    "        title(agent.posture)\n",
    "        if joint_name in interpolated:\n",
    "            plot(otherInterpolation, '-g')\n",
    "        display.clear_output(wait=True)\n",
    "        display.display(gcf())\n",
    "agent.sense_think_act = sense_think_act\n",
    "agent.start()"
   ]
  },
  {
   "cell_type": "code",
   "execution_count": null,
   "metadata": {
    "collapsed": true
   },
   "outputs": [],
   "source": []
  },
  {
   "cell_type": "code",
   "execution_count": null,
   "metadata": {
    "collapsed": true
   },
   "outputs": [],
   "source": []
  }
 ],
 "metadata": {
  "kernelspec": {
   "display_name": "Python 2",
   "language": "python",
   "name": "python2"
  },
  "language_info": {
   "codemirror_mode": {
    "name": "ipython",
    "version": 2
   },
   "file_extension": ".py",
   "mimetype": "text/x-python",
   "name": "python",
   "nbconvert_exporter": "python",
   "pygments_lexer": "ipython2",
   "version": "2.7.10"
  }
 },
 "nbformat": 4,
 "nbformat_minor": 0
}
